{
 "cells": [
  {
   "cell_type": "code",
   "execution_count": 1,
   "metadata": {},
   "outputs": [
    {
     "data": {
      "text/html": [
       "\n",
       "        <style>\n",
       "            audio {\n",
       "            width: 100% !important;\n",
       "        }\n",
       "        .output_png {\n",
       "            text-align: center !important;\n",
       "        }\n",
       "        </style>\n",
       "        "
      ],
      "text/plain": [
       "<IPython.core.display.HTML object>"
      ]
     },
     "metadata": {},
     "output_type": "execute_result"
    }
   ],
   "source": [
    "import torch\n",
    "from pysmo.sac import sacio, sacfunc\n",
    "import numpy as np\n",
    "import librosa\n",
    "from librosa import display\n",
    "import matplotlib.pyplot as plt\n",
    "import os\n",
    "from tqdm import tnrange\n",
    "import random\n",
    "import h5py\n",
    "from audio_embed import utilities\n",
    "utilities.apply_style()\n",
    "%matplotlib inline"
   ]
  },
  {
   "cell_type": "markdown",
   "metadata": {},
   "source": [
    "# Siamese networks for triggered earthquake detection\n",
    "\n",
    "In this work, we apply deep learning to the problem of triggered earthquake detection. Earthquake-generating zones are normally close to a failure state. Sometimes, a remote earthquake can cause an earthquake-generating zone to reach this failure state, resulting in another earthquake - a triggered earthquake. The detection of these triggered earthquakes is a difficult and error-prone process that is done by human experts. The amount of available data from seismograms all over the world makes this a very daunting task. We present a system for the automated discovery of triggered earthquakes using siamese convolutional deep networks.\n",
    "\n",
    "## Data\n",
    "\n",
    "We train and test our system on a set of 8 earthquakes consisting of 2311 seismograms. These seismograms are classified into two categories - they either contain a triggered earthquake (positive events) or do not (negative events). Of the 2133 seismograms, 1175 were positive events and 1136 were negative events.\n",
    "\n",
    "Seismogram data from a single earthquake is highly correlated across all the seismograms recording the earthquake events. Training on part of the data from a single earthquake and testing on the remaining data, therefore, is trivial to get good performance on, because of the very high correlation between the training and testing data. To measure performance of our system accurately, we must train and test on different sets of earthquakes. We use the first 7 earthquakes in our dataset for training and the remaining earthquake for testing. \n",
    "\n",
    "Data is kept in the folder 'data_reexamined'. Each earthquake is in its own folder and is split into 3 categories, each kept in subfolders - 'positive', 'negative', and 'chaos'. This last category contains earthquakes that the human expert was unsure about. For now, these earthquakes are excluded from training and testing. In the list below, we use the first 7 earthquakes for training and the last earthquake ('SAC_20050328_XF_prem') for testing."
   ]
  },
  {
   "cell_type": "code",
   "execution_count": 3,
   "metadata": {},
   "outputs": [],
   "source": [
    "folders = [\n",
    " 'SAC_20041226_2_XF_prem',\n",
    " 'SAC_20021102_XF_prem',\n",
    " 'SAC_20030925_XF_prem',\n",
    " 'SAC_20100227_Chile_prem',\n",
    " 'SAC_20030927_XF_prem',\n",
    " 'SAC_20041226_XF_prem',\n",
    " 'SAC_20050724_XF_prem',\n",
    " 'SAC_20050328_XF_prem',\n",
    "]"
   ]
  },
  {
   "cell_type": "markdown",
   "metadata": {},
   "source": [
    "## Surface window\n",
    "\n",
    "The search space for a triggered earthquake in a seismogram can be narrowed by calculating the surface window - the time period when the remote earthquake's surface waves reach the seismogram station. To do this, we first the distance $d$ between the seismogram station and the remote earthquake. The surface window can then be calculated by dividing the distance by the group velocity 5 km/s and 2 km/s. The surface window is then:\n",
    "\n",
    "$$x[sr*d/5:sr*d/2]$$\n",
    "\n",
    "where $x$ is the seismogram data, $sr$ is the sample rate of the data, and $d$ is the distance between the station and the remote earthquake.\n",
    "\n",
    "The function below reads in the surface windows for each seismogram."
   ]
  },
  {
   "cell_type": "code",
   "execution_count": 4,
   "metadata": {},
   "outputs": [],
   "source": [
    "def read_surface_window(f):\n",
    "    f = open(f)\n",
    "    times = [s.rstrip().replace('\\t', ' ').split(' ') for s in f.readlines()]\n",
    "    d = {}\n",
    "    for time in times:\n",
    "        d[time[0].split('BH')[0]] = (float(time[1]), float(time[2]))\n",
    "    f.close()\n",
    "    return d"
   ]
  },
  {
   "cell_type": "markdown",
   "metadata": {},
   "source": [
    "The data loading process is as follows: we go through every earthquake folder, take each seismogram in the positive and negative folders, use the surface window to read in the part of the seismogram that either contains the triggered earthquake or does not, and store the result into a list"
   ]
  },
  {
   "cell_type": "code",
   "execution_count": 5,
   "metadata": {
    "scrolled": true
   },
   "outputs": [
    {
     "data": {
      "text/html": [
       "<p>Failed to display Jupyter Widget of type <code>HBox</code>.</p>\n",
       "<p>\n",
       "  If you're reading this message in the Jupyter Notebook or JupyterLab Notebook, it may mean\n",
       "  that the widgets JavaScript is still loading. If this message persists, it\n",
       "  likely means that the widgets JavaScript library is either not installed or\n",
       "  not enabled. See the <a href=\"https://ipywidgets.readthedocs.io/en/stable/user_install.html\">Jupyter\n",
       "  Widgets Documentation</a> for setup instructions.\n",
       "</p>\n",
       "<p>\n",
       "  If you're reading this message in another frontend (for example, a static\n",
       "  rendering on GitHub or <a href=\"https://nbviewer.jupyter.org/\">NBViewer</a>),\n",
       "  it may mean that your frontend doesn't currently support widgets.\n",
       "</p>\n"
      ],
      "text/plain": [
       "HBox(children=(IntProgress(value=0, max=245), HTML(value=u'')))"
      ]
     },
     "metadata": {},
     "output_type": "execute_result"
    },
    {
     "name": "stdout",
     "output_type": "stream",
     "text": [
      "\n"
     ]
    },
    {
     "data": {
      "text/html": [
       "<p>Failed to display Jupyter Widget of type <code>HBox</code>.</p>\n",
       "<p>\n",
       "  If you're reading this message in the Jupyter Notebook or JupyterLab Notebook, it may mean\n",
       "  that the widgets JavaScript is still loading. If this message persists, it\n",
       "  likely means that the widgets JavaScript library is either not installed or\n",
       "  not enabled. See the <a href=\"https://ipywidgets.readthedocs.io/en/stable/user_install.html\">Jupyter\n",
       "  Widgets Documentation</a> for setup instructions.\n",
       "</p>\n",
       "<p>\n",
       "  If you're reading this message in another frontend (for example, a static\n",
       "  rendering on GitHub or <a href=\"https://nbviewer.jupyter.org/\">NBViewer</a>),\n",
       "  it may mean that your frontend doesn't currently support widgets.\n",
       "</p>\n"
      ],
      "text/plain": [
       "HBox(children=(IntProgress(value=0, max=20), HTML(value=u'')))"
      ]
     },
     "metadata": {},
     "output_type": "execute_result"
    },
    {
     "name": "stdout",
     "output_type": "stream",
     "text": [
      "\n"
     ]
    },
    {
     "data": {
      "text/html": [
       "<p>Failed to display Jupyter Widget of type <code>HBox</code>.</p>\n",
       "<p>\n",
       "  If you're reading this message in the Jupyter Notebook or JupyterLab Notebook, it may mean\n",
       "  that the widgets JavaScript is still loading. If this message persists, it\n",
       "  likely means that the widgets JavaScript library is either not installed or\n",
       "  not enabled. See the <a href=\"https://ipywidgets.readthedocs.io/en/stable/user_install.html\">Jupyter\n",
       "  Widgets Documentation</a> for setup instructions.\n",
       "</p>\n",
       "<p>\n",
       "  If you're reading this message in another frontend (for example, a static\n",
       "  rendering on GitHub or <a href=\"https://nbviewer.jupyter.org/\">NBViewer</a>),\n",
       "  it may mean that your frontend doesn't currently support widgets.\n",
       "</p>\n"
      ],
      "text/plain": [
       "HBox(children=(IntProgress(value=1, bar_style=u'info', max=1), HTML(value=u'')))"
      ]
     },
     "metadata": {},
     "output_type": "execute_result"
    },
    {
     "name": "stdout",
     "output_type": "stream",
     "text": [
      "\n"
     ]
    },
    {
     "data": {
      "text/html": [
       "<p>Failed to display Jupyter Widget of type <code>HBox</code>.</p>\n",
       "<p>\n",
       "  If you're reading this message in the Jupyter Notebook or JupyterLab Notebook, it may mean\n",
       "  that the widgets JavaScript is still loading. If this message persists, it\n",
       "  likely means that the widgets JavaScript library is either not installed or\n",
       "  not enabled. See the <a href=\"https://ipywidgets.readthedocs.io/en/stable/user_install.html\">Jupyter\n",
       "  Widgets Documentation</a> for setup instructions.\n",
       "</p>\n",
       "<p>\n",
       "  If you're reading this message in another frontend (for example, a static\n",
       "  rendering on GitHub or <a href=\"https://nbviewer.jupyter.org/\">NBViewer</a>),\n",
       "  it may mean that your frontend doesn't currently support widgets.\n",
       "</p>\n"
      ],
      "text/plain": [
       "HBox(children=(IntProgress(value=0, max=105), HTML(value=u'')))"
      ]
     },
     "metadata": {},
     "output_type": "execute_result"
    },
    {
     "name": "stdout",
     "output_type": "stream",
     "text": [
      "\n"
     ]
    },
    {
     "data": {
      "text/html": [
       "<p>Failed to display Jupyter Widget of type <code>HBox</code>.</p>\n",
       "<p>\n",
       "  If you're reading this message in the Jupyter Notebook or JupyterLab Notebook, it may mean\n",
       "  that the widgets JavaScript is still loading. If this message persists, it\n",
       "  likely means that the widgets JavaScript library is either not installed or\n",
       "  not enabled. See the <a href=\"https://ipywidgets.readthedocs.io/en/stable/user_install.html\">Jupyter\n",
       "  Widgets Documentation</a> for setup instructions.\n",
       "</p>\n",
       "<p>\n",
       "  If you're reading this message in another frontend (for example, a static\n",
       "  rendering on GitHub or <a href=\"https://nbviewer.jupyter.org/\">NBViewer</a>),\n",
       "  it may mean that your frontend doesn't currently support widgets.\n",
       "</p>\n"
      ],
      "text/plain": [
       "HBox(children=(IntProgress(value=1, bar_style=u'info', max=1), HTML(value=u'')))"
      ]
     },
     "metadata": {},
     "output_type": "execute_result"
    },
    {
     "name": "stdout",
     "output_type": "stream",
     "text": [
      "\n"
     ]
    },
    {
     "data": {
      "text/html": [
       "<p>Failed to display Jupyter Widget of type <code>HBox</code>.</p>\n",
       "<p>\n",
       "  If you're reading this message in the Jupyter Notebook or JupyterLab Notebook, it may mean\n",
       "  that the widgets JavaScript is still loading. If this message persists, it\n",
       "  likely means that the widgets JavaScript library is either not installed or\n",
       "  not enabled. See the <a href=\"https://ipywidgets.readthedocs.io/en/stable/user_install.html\">Jupyter\n",
       "  Widgets Documentation</a> for setup instructions.\n",
       "</p>\n",
       "<p>\n",
       "  If you're reading this message in another frontend (for example, a static\n",
       "  rendering on GitHub or <a href=\"https://nbviewer.jupyter.org/\">NBViewer</a>),\n",
       "  it may mean that your frontend doesn't currently support widgets.\n",
       "</p>\n"
      ],
      "text/plain": [
       "HBox(children=(IntProgress(value=0, max=220), HTML(value=u'')))"
      ]
     },
     "metadata": {},
     "output_type": "execute_result"
    },
    {
     "name": "stdout",
     "output_type": "stream",
     "text": [
      "\n"
     ]
    },
    {
     "data": {
      "text/html": [
       "<p>Failed to display Jupyter Widget of type <code>HBox</code>.</p>\n",
       "<p>\n",
       "  If you're reading this message in the Jupyter Notebook or JupyterLab Notebook, it may mean\n",
       "  that the widgets JavaScript is still loading. If this message persists, it\n",
       "  likely means that the widgets JavaScript library is either not installed or\n",
       "  not enabled. See the <a href=\"https://ipywidgets.readthedocs.io/en/stable/user_install.html\">Jupyter\n",
       "  Widgets Documentation</a> for setup instructions.\n",
       "</p>\n",
       "<p>\n",
       "  If you're reading this message in another frontend (for example, a static\n",
       "  rendering on GitHub or <a href=\"https://nbviewer.jupyter.org/\">NBViewer</a>),\n",
       "  it may mean that your frontend doesn't currently support widgets.\n",
       "</p>\n"
      ],
      "text/plain": [
       "HBox(children=(IntProgress(value=0, max=980), HTML(value=u'')))"
      ]
     },
     "metadata": {},
     "output_type": "execute_result"
    },
    {
     "name": "stdout",
     "output_type": "stream",
     "text": [
      "\n",
      "1080\n"
     ]
    },
    {
     "data": {
      "text/html": [
       "<p>Failed to display Jupyter Widget of type <code>HBox</code>.</p>\n",
       "<p>\n",
       "  If you're reading this message in the Jupyter Notebook or JupyterLab Notebook, it may mean\n",
       "  that the widgets JavaScript is still loading. If this message persists, it\n",
       "  likely means that the widgets JavaScript library is either not installed or\n",
       "  not enabled. See the <a href=\"https://ipywidgets.readthedocs.io/en/stable/user_install.html\">Jupyter\n",
       "  Widgets Documentation</a> for setup instructions.\n",
       "</p>\n",
       "<p>\n",
       "  If you're reading this message in another frontend (for example, a static\n",
       "  rendering on GitHub or <a href=\"https://nbviewer.jupyter.org/\">NBViewer</a>),\n",
       "  it may mean that your frontend doesn't currently support widgets.\n",
       "</p>\n"
      ],
      "text/plain": [
       "HBox(children=(IntProgress(value=0, max=95), HTML(value=u'')))"
      ]
     },
     "metadata": {},
     "output_type": "execute_result"
    },
    {
     "name": "stdout",
     "output_type": "stream",
     "text": [
      "\n",
      "1175\n"
     ]
    },
    {
     "data": {
      "text/html": [
       "<p>Failed to display Jupyter Widget of type <code>HBox</code>.</p>\n",
       "<p>\n",
       "  If you're reading this message in the Jupyter Notebook or JupyterLab Notebook, it may mean\n",
       "  that the widgets JavaScript is still loading. If this message persists, it\n",
       "  likely means that the widgets JavaScript library is either not installed or\n",
       "  not enabled. See the <a href=\"https://ipywidgets.readthedocs.io/en/stable/user_install.html\">Jupyter\n",
       "  Widgets Documentation</a> for setup instructions.\n",
       "</p>\n",
       "<p>\n",
       "  If you're reading this message in another frontend (for example, a static\n",
       "  rendering on GitHub or <a href=\"https://nbviewer.jupyter.org/\">NBViewer</a>),\n",
       "  it may mean that your frontend doesn't currently support widgets.\n",
       "</p>\n"
      ],
      "text/plain": [
       "HBox(children=(IntProgress(value=0, max=5), HTML(value=u'')))"
      ]
     },
     "metadata": {},
     "output_type": "execute_result"
    },
    {
     "name": "stdout",
     "output_type": "stream",
     "text": [
      "\n"
     ]
    },
    {
     "data": {
      "text/html": [
       "<p>Failed to display Jupyter Widget of type <code>HBox</code>.</p>\n",
       "<p>\n",
       "  If you're reading this message in the Jupyter Notebook or JupyterLab Notebook, it may mean\n",
       "  that the widgets JavaScript is still loading. If this message persists, it\n",
       "  likely means that the widgets JavaScript library is either not installed or\n",
       "  not enabled. See the <a href=\"https://ipywidgets.readthedocs.io/en/stable/user_install.html\">Jupyter\n",
       "  Widgets Documentation</a> for setup instructions.\n",
       "</p>\n",
       "<p>\n",
       "  If you're reading this message in another frontend (for example, a static\n",
       "  rendering on GitHub or <a href=\"https://nbviewer.jupyter.org/\">NBViewer</a>),\n",
       "  it may mean that your frontend doesn't currently support widgets.\n",
       "</p>\n"
      ],
      "text/plain": [
       "HBox(children=(IntProgress(value=0, max=114), HTML(value=u'')))"
      ]
     },
     "metadata": {},
     "output_type": "execute_result"
    },
    {
     "name": "stdout",
     "output_type": "stream",
     "text": [
      "\n"
     ]
    },
    {
     "data": {
      "text/html": [
       "<p>Failed to display Jupyter Widget of type <code>HBox</code>.</p>\n",
       "<p>\n",
       "  If you're reading this message in the Jupyter Notebook or JupyterLab Notebook, it may mean\n",
       "  that the widgets JavaScript is still loading. If this message persists, it\n",
       "  likely means that the widgets JavaScript library is either not installed or\n",
       "  not enabled. See the <a href=\"https://ipywidgets.readthedocs.io/en/stable/user_install.html\">Jupyter\n",
       "  Widgets Documentation</a> for setup instructions.\n",
       "</p>\n",
       "<p>\n",
       "  If you're reading this message in another frontend (for example, a static\n",
       "  rendering on GitHub or <a href=\"https://nbviewer.jupyter.org/\">NBViewer</a>),\n",
       "  it may mean that your frontend doesn't currently support widgets.\n",
       "</p>\n"
      ],
      "text/plain": [
       "HBox(children=(IntProgress(value=0, max=155), HTML(value=u'')))"
      ]
     },
     "metadata": {},
     "output_type": "execute_result"
    },
    {
     "name": "stdout",
     "output_type": "stream",
     "text": [
      "\n"
     ]
    },
    {
     "data": {
      "text/html": [
       "<p>Failed to display Jupyter Widget of type <code>HBox</code>.</p>\n",
       "<p>\n",
       "  If you're reading this message in the Jupyter Notebook or JupyterLab Notebook, it may mean\n",
       "  that the widgets JavaScript is still loading. If this message persists, it\n",
       "  likely means that the widgets JavaScript library is either not installed or\n",
       "  not enabled. See the <a href=\"https://ipywidgets.readthedocs.io/en/stable/user_install.html\">Jupyter\n",
       "  Widgets Documentation</a> for setup instructions.\n",
       "</p>\n",
       "<p>\n",
       "  If you're reading this message in another frontend (for example, a static\n",
       "  rendering on GitHub or <a href=\"https://nbviewer.jupyter.org/\">NBViewer</a>),\n",
       "  it may mean that your frontend doesn't currently support widgets.\n",
       "</p>\n"
      ],
      "text/plain": [
       "HBox(children=(IntProgress(value=0, max=697), HTML(value=u'')))"
      ]
     },
     "metadata": {},
     "output_type": "execute_result"
    },
    {
     "name": "stdout",
     "output_type": "stream",
     "text": [
      "\n"
     ]
    },
    {
     "data": {
      "text/html": [
       "<p>Failed to display Jupyter Widget of type <code>HBox</code>.</p>\n",
       "<p>\n",
       "  If you're reading this message in the Jupyter Notebook or JupyterLab Notebook, it may mean\n",
       "  that the widgets JavaScript is still loading. If this message persists, it\n",
       "  likely means that the widgets JavaScript library is either not installed or\n",
       "  not enabled. See the <a href=\"https://ipywidgets.readthedocs.io/en/stable/user_install.html\">Jupyter\n",
       "  Widgets Documentation</a> for setup instructions.\n",
       "</p>\n",
       "<p>\n",
       "  If you're reading this message in another frontend (for example, a static\n",
       "  rendering on GitHub or <a href=\"https://nbviewer.jupyter.org/\">NBViewer</a>),\n",
       "  it may mean that your frontend doesn't currently support widgets.\n",
       "</p>\n"
      ],
      "text/plain": [
       "HBox(children=(IntProgress(value=0, max=95), HTML(value=u'')))"
      ]
     },
     "metadata": {},
     "output_type": "execute_result"
    },
    {
     "name": "stdout",
     "output_type": "stream",
     "text": [
      "\n"
     ]
    },
    {
     "data": {
      "text/html": [
       "<p>Failed to display Jupyter Widget of type <code>HBox</code>.</p>\n",
       "<p>\n",
       "  If you're reading this message in the Jupyter Notebook or JupyterLab Notebook, it may mean\n",
       "  that the widgets JavaScript is still loading. If this message persists, it\n",
       "  likely means that the widgets JavaScript library is either not installed or\n",
       "  not enabled. See the <a href=\"https://ipywidgets.readthedocs.io/en/stable/user_install.html\">Jupyter\n",
       "  Widgets Documentation</a> for setup instructions.\n",
       "</p>\n",
       "<p>\n",
       "  If you're reading this message in another frontend (for example, a static\n",
       "  rendering on GitHub or <a href=\"https://nbviewer.jupyter.org/\">NBViewer</a>),\n",
       "  it may mean that your frontend doesn't currently support widgets.\n",
       "</p>\n"
      ],
      "text/plain": [
       "HBox(children=(IntProgress(value=1, bar_style=u'info', max=1), HTML(value=u'')))"
      ]
     },
     "metadata": {},
     "output_type": "execute_result"
    },
    {
     "name": "stdout",
     "output_type": "stream",
     "text": [
      "\n"
     ]
    },
    {
     "data": {
      "text/html": [
       "<p>Failed to display Jupyter Widget of type <code>HBox</code>.</p>\n",
       "<p>\n",
       "  If you're reading this message in the Jupyter Notebook or JupyterLab Notebook, it may mean\n",
       "  that the widgets JavaScript is still loading. If this message persists, it\n",
       "  likely means that the widgets JavaScript library is either not installed or\n",
       "  not enabled. See the <a href=\"https://ipywidgets.readthedocs.io/en/stable/user_install.html\">Jupyter\n",
       "  Widgets Documentation</a> for setup instructions.\n",
       "</p>\n",
       "<p>\n",
       "  If you're reading this message in another frontend (for example, a static\n",
       "  rendering on GitHub or <a href=\"https://nbviewer.jupyter.org/\">NBViewer</a>),\n",
       "  it may mean that your frontend doesn't currently support widgets.\n",
       "</p>\n"
      ],
      "text/plain": [
       "HBox(children=(IntProgress(value=0, max=20), HTML(value=u'')))"
      ]
     },
     "metadata": {},
     "output_type": "execute_result"
    },
    {
     "name": "stdout",
     "output_type": "stream",
     "text": [
      "\n",
      "1076\n"
     ]
    },
    {
     "data": {
      "text/html": [
       "<p>Failed to display Jupyter Widget of type <code>HBox</code>.</p>\n",
       "<p>\n",
       "  If you're reading this message in the Jupyter Notebook or JupyterLab Notebook, it may mean\n",
       "  that the widgets JavaScript is still loading. If this message persists, it\n",
       "  likely means that the widgets JavaScript library is either not installed or\n",
       "  not enabled. See the <a href=\"https://ipywidgets.readthedocs.io/en/stable/user_install.html\">Jupyter\n",
       "  Widgets Documentation</a> for setup instructions.\n",
       "</p>\n",
       "<p>\n",
       "  If you're reading this message in another frontend (for example, a static\n",
       "  rendering on GitHub or <a href=\"https://nbviewer.jupyter.org/\">NBViewer</a>),\n",
       "  it may mean that your frontend doesn't currently support widgets.\n",
       "</p>\n"
      ],
      "text/plain": [
       "HBox(children=(IntProgress(value=0, max=60), HTML(value=u'')))"
      ]
     },
     "metadata": {},
     "output_type": "execute_result"
    },
    {
     "name": "stdout",
     "output_type": "stream",
     "text": [
      "\n",
      "1136\n"
     ]
    }
   ],
   "source": [
    "def load_data(directory):\n",
    "    earthquakes = []\n",
    "    earthquake_files = [x for x in os.listdir(directory) if '.SAC' in x]\n",
    "    progress_bar = tnrange(len(earthquake_files))\n",
    "    shape = None\n",
    "    if len(earthquake_files) == 0:\n",
    "        return []\n",
    "    \n",
    "    surface_window = read_surface_window(os.path.join(directory, 'surface_window.txt'))\n",
    "    for i in progress_bar:\n",
    "        earthquake_file = earthquake_files[i]\n",
    "        progress_bar.set_description(os.path.join(directory, earthquake_file))\n",
    "        earthquake = sacio.sacfile(os.path.join(directory, earthquake_file))\n",
    "        sample_rate = np.round(1./earthquake.delta)\n",
    "        t, data = sacfunc.sac2xy(earthquake)\n",
    "        start, stop = surface_window[earthquake_file.split('BH')[0]]\n",
    "        start, stop = int(sample_rate*start), int(sample_rate*stop)\n",
    "        \n",
    "        data = np.array(data)[start:stop]\n",
    "        if data.shape[0] == (stop - start):\n",
    "            earthquakes.append(data)\n",
    "    return earthquakes\n",
    "\n",
    "positive_earthquakes = []\n",
    "for i, f in enumerate(folders):\n",
    "    if i == len(folders) - 1:\n",
    "        positive_cutoff = len(positive_earthquakes)\n",
    "        print positive_cutoff\n",
    "    positive_earthquakes += load_data(os.path.join('data_reexamined', f, 'positive'))\n",
    "print len(positive_earthquakes)\n",
    "\n",
    "negative_earthquakes = []\n",
    "for i, f in enumerate(folders):\n",
    "    if i == len(folders) - 1:\n",
    "        negative_cutoff = len(negative_earthquakes)\n",
    "        print negative_cutoff\n",
    "    negative_earthquakes += load_data(os.path.join('data_reexamined', f, 'negative'))\n",
    "print len(negative_earthquakes)"
   ]
  },
  {
   "cell_type": "markdown",
   "metadata": {},
   "source": [
    "In all, we have 2156 number of training examples, 1080 of which are positive examples and 1076 of which are negative examples. We have 155 number of testing examples, 95 of which are positive and 60 of which are negative."
   ]
  },
  {
   "cell_type": "markdown",
   "metadata": {},
   "source": [
    "## Data representation\n",
    "\n",
    "We design an data representation based on the characteristics of triggered earthquake events. The seismogram data is filtered into a low-pass with a cutoff of $2$ Hz and a band-pass between $2$ and $8$ Hz. Then, spectrograms of these filtered signals are taken. \n",
    "\n",
    "The feature extraction code is as follows:"
   ]
  },
  {
   "cell_type": "code",
   "execution_count": 9,
   "metadata": {},
   "outputs": [],
   "source": [
    "from scipy.signal import butter, lfilter, freqz\n",
    "\n",
    "def butter_lowpass(cutoff, fs, order=5):\n",
    "    nyq = 0.5 * fs\n",
    "    normal_cutoff = cutoff / nyq\n",
    "    b, a = butter(order, normal_cutoff, btype='low', analog=False)\n",
    "    return b, a\n",
    "\n",
    "def butter_highpass(cutoff, fs, order=5):\n",
    "    nyq = 0.5 * fs\n",
    "    normal_cutoff = cutoff / nyq\n",
    "    b, a = butter(order, normal_cutoff, btype='high', analog=False)\n",
    "    return b, a\n",
    "\n",
    "def butter_bandpass(lowcut, highcut, fs, order=5):\n",
    "    nyq = 0.5 * fs\n",
    "    low = lowcut / nyq\n",
    "    high = highcut / nyq\n",
    "    b, a = butter(order, [low, high], btype='band')\n",
    "    return b, a"
   ]
  },
  {
   "cell_type": "code",
   "execution_count": 10,
   "metadata": {},
   "outputs": [],
   "source": [
    "def extract_features(data, sr=40.0):\n",
    "    raw_data = data/np.max(np.abs(data))\n",
    "    b, a = butter_highpass(5.0, sr, 2)\n",
    "    high_pass = lfilter(b, a, raw_data)\n",
    "    \n",
    "    b, a = butter_bandpass(2.0, 8.0, sr, 2)\n",
    "    band_pass = lfilter(b, a, raw_data)\n",
    "    \n",
    "    b, a = butter_lowpass(2.0, sr, 2)\n",
    "    low_pass = lfilter(b, a, raw_data)\n",
    "    \n",
    "    band_spectrogram = extract_spectrogram(band_pass, 2.0, 8.0)\n",
    "    high_spectrogram = extract_spectrogram(high_pass, 5.0, 7.0)\n",
    "    low_spectrogram = extract_spectrogram(low_pass, 0.0, 2.0)\n",
    "    \n",
    "    return np.vstack([band_spectrogram, low_spectrogram])[:, :50]\n",
    "    \n",
    "def extract_spectrogram(data, low_cutoff, high_cutoff, sr=40):\n",
    "    spectrogram = librosa.amplitude_to_db(np.abs(librosa.stft(data, n_fft=1024, hop_length=512)), ref=0.0)\n",
    "    fft_frequencies = librosa.fft_frequencies(sr=sr, n_fft=1024)\n",
    "    low = (np.abs(fft_frequencies - low_cutoff)).argmin()\n",
    "    high = (np.abs(fft_frequencies - high_cutoff)).argmin()\n",
    "    #mel_filters = librosa.filters.mel(100, 2048, n_mels=300)\n",
    "    #spectrogram = np.dot(mel_filters, spectrogram)\n",
    "    return spectrogram[low:high, :]"
   ]
  },
  {
   "cell_type": "code",
   "execution_count": 13,
   "metadata": {},
   "outputs": [
    {
     "data": {
      "image/png": "[encoded data removed]",
      "text/plain": [
       "<matplotlib.figure.Figure at 0x7fb045f173d0>"
      ]
     },
     "metadata": {},
     "output_type": "display_data"
    },
    {
     "data": {
      "image/png": "[encoded data removed]",
      "text/plain": [
       "<matplotlib.figure.Figure at 0x7fb034625f90>"
      ]
     },
     "metadata": {},
     "output_type": "display_data"
    }
   ],
   "source": [
    "plt.figure(figsize=(20, 4))\n",
    "plt.imshow(extract_features(positive_earthquakes[-1]), origin='lower', aspect='auto')\n",
    "plt.title('Representation of a positive example')\n",
    "plt.show()\n",
    "\n",
    "plt.figure(figsize=(20, 4))\n",
    "plt.imshow(extract_features(negative_earthquakes[-1]), origin='lower', aspect='auto')\n",
    "plt.title('Representation of a negative example')\n",
    "plt.show()"
   ]
  },
  {
   "cell_type": "markdown",
   "metadata": {},
   "source": [
    "In the positive example above, a tell-tale sign of the triggered earthquake can be seen in the spectrogram (the spike aross all frequencies between frames 30 and 40. In the negative example, there is no spike.\n",
    "\n",
    "The following code takes each seismogram, extracts the spectrogram, and stores them into an HDF5 file."
   ]
  },
  {
   "cell_type": "code",
   "execution_count": 21,
   "metadata": {},
   "outputs": [
    {
     "data": {
      "text/html": [
       "<p>Failed to display Jupyter Widget of type <code>HBox</code>.</p>\n",
       "<p>\n",
       "  If you're reading this message in the Jupyter Notebook or JupyterLab Notebook, it may mean\n",
       "  that the widgets JavaScript is still loading. If this message persists, it\n",
       "  likely means that the widgets JavaScript library is either not installed or\n",
       "  not enabled. See the <a href=\"https://ipywidgets.readthedocs.io/en/stable/user_install.html\">Jupyter\n",
       "  Widgets Documentation</a> for setup instructions.\n",
       "</p>\n",
       "<p>\n",
       "  If you're reading this message in another frontend (for example, a static\n",
       "  rendering on GitHub or <a href=\"https://nbviewer.jupyter.org/\">NBViewer</a>),\n",
       "  it may mean that your frontend doesn't currently support widgets.\n",
       "</p>\n"
      ],
      "text/plain": [
       "HBox(children=(IntProgress(value=0, max=1080), HTML(value=u'')))"
      ]
     },
     "metadata": {},
     "output_type": "execute_result"
    },
    {
     "data": {
      "text/html": [
       "<p>Failed to display Jupyter Widget of type <code>HBox</code>.</p>\n",
       "<p>\n",
       "  If you're reading this message in the Jupyter Notebook or JupyterLab Notebook, it may mean\n",
       "  that the widgets JavaScript is still loading. If this message persists, it\n",
       "  likely means that the widgets JavaScript library is either not installed or\n",
       "  not enabled. See the <a href=\"https://ipywidgets.readthedocs.io/en/stable/user_install.html\">Jupyter\n",
       "  Widgets Documentation</a> for setup instructions.\n",
       "</p>\n",
       "<p>\n",
       "  If you're reading this message in another frontend (for example, a static\n",
       "  rendering on GitHub or <a href=\"https://nbviewer.jupyter.org/\">NBViewer</a>),\n",
       "  it may mean that your frontend doesn't currently support widgets.\n",
       "</p>\n"
      ],
      "text/plain": [
       "HBox(children=(IntProgress(value=0, max=1076), HTML(value=u'')))"
      ]
     },
     "metadata": {},
     "output_type": "execute_result"
    },
    {
     "data": {
      "text/html": [
       "<p>Failed to display Jupyter Widget of type <code>HBox</code>.</p>\n",
       "<p>\n",
       "  If you're reading this message in the Jupyter Notebook or JupyterLab Notebook, it may mean\n",
       "  that the widgets JavaScript is still loading. If this message persists, it\n",
       "  likely means that the widgets JavaScript library is either not installed or\n",
       "  not enabled. See the <a href=\"https://ipywidgets.readthedocs.io/en/stable/user_install.html\">Jupyter\n",
       "  Widgets Documentation</a> for setup instructions.\n",
       "</p>\n",
       "<p>\n",
       "  If you're reading this message in another frontend (for example, a static\n",
       "  rendering on GitHub or <a href=\"https://nbviewer.jupyter.org/\">NBViewer</a>),\n",
       "  it may mean that your frontend doesn't currently support widgets.\n",
       "</p>\n"
      ],
      "text/plain": [
       "HBox(children=(IntProgress(value=0, max=95), HTML(value=u'')))"
      ]
     },
     "metadata": {},
     "output_type": "execute_result"
    },
    {
     "data": {
      "text/html": [
       "<p>Failed to display Jupyter Widget of type <code>HBox</code>.</p>\n",
       "<p>\n",
       "  If you're reading this message in the Jupyter Notebook or JupyterLab Notebook, it may mean\n",
       "  that the widgets JavaScript is still loading. If this message persists, it\n",
       "  likely means that the widgets JavaScript library is either not installed or\n",
       "  not enabled. See the <a href=\"https://ipywidgets.readthedocs.io/en/stable/user_install.html\">Jupyter\n",
       "  Widgets Documentation</a> for setup instructions.\n",
       "</p>\n",
       "<p>\n",
       "  If you're reading this message in another frontend (for example, a static\n",
       "  rendering on GitHub or <a href=\"https://nbviewer.jupyter.org/\">NBViewer</a>),\n",
       "  it may mean that your frontend doesn't currently support widgets.\n",
       "</p>\n"
      ],
      "text/plain": [
       "HBox(children=(IntProgress(value=0, max=60), HTML(value=u'')))"
      ]
     },
     "metadata": {},
     "output_type": "execute_result"
    }
   ],
   "source": [
    "import h5py\n",
    "shape = (1,) + extract_features(positive_earthquakes[0]).shape\n",
    "\n",
    "dataset = h5py.File('earthquake_tutorial.h5', 'w')\n",
    "dataset.create_group('training')\n",
    "dataset.create_group('testing')\n",
    "\n",
    "split = 'training'\n",
    "amount_for_testing = positive_cutoff\n",
    "\n",
    "dataset[split].create_dataset('data', \n",
    "                                   shape=shape, \n",
    "                                   maxshape=(None, None, None)) \n",
    "dataset[split].create_dataset('label', \n",
    "                                   shape=(1, 1), \n",
    "                                   maxshape=(None, None))\n",
    "\n",
    "for i in tnrange(positive_cutoff):\n",
    "    current_size = dataset[split]['data'].shape[0]\n",
    "    dataset[split]['data'][current_size - 1] = extract_features(positive_earthquakes[i])\n",
    "    dataset[split]['label'][current_size - 1] = 1\n",
    "    dataset[split]['data'].resize(current_size + 1, axis = 0)\n",
    "    dataset[split]['label'].resize(current_size + 1, axis = 0)\n",
    "    \n",
    "for i in tnrange(negative_cutoff):\n",
    "    current_size = dataset[split]['data'].shape[0]\n",
    "    dataset[split]['data'][current_size - 1] = extract_features(negative_earthquakes[i])\n",
    "    dataset[split]['label'][current_size - 1] = 0\n",
    "    if i < (len(negative_earthquakes) - 5) - 1:\n",
    "        dataset[split]['data'].resize(current_size + 1, axis = 0)\n",
    "        dataset[split]['label'].resize(current_size + 1, axis = 0)\n",
    "\n",
    "split = 'testing'\n",
    "\n",
    "dataset[split].create_dataset('data', \n",
    "                                   shape=shape, \n",
    "                                   maxshape=(None, None, None)) \n",
    "dataset[split].create_dataset('label', \n",
    "                                   shape=(1, 1), \n",
    "                                   maxshape=(None, None))\n",
    "for i in tnrange(positive_cutoff, len(positive_earthquakes)):\n",
    "    current_size = dataset[split]['data'].shape[0]\n",
    "    dataset[split]['data'][current_size - 1] = extract_features(positive_earthquakes[i])\n",
    "    dataset[split]['label'][current_size - 1] = 1\n",
    "    dataset[split]['data'].resize(current_size + 1, axis = 0)\n",
    "    dataset[split]['label'].resize(current_size + 1, axis = 0)\n",
    "    \n",
    "for i in tnrange(negative_cutoff, len(negative_earthquakes)):\n",
    "    current_size = dataset[split]['data'].shape[0]\n",
    "    dataset[split]['data'][current_size - 1] = extract_features(negative_earthquakes[i])\n",
    "    dataset[split]['label'][current_size - 1] = 0\n",
    "    if i < len(negative_earthquakes) - 1:\n",
    "        dataset[split]['data'].resize(current_size + 1, axis = 0)\n",
    "        dataset[split]['label'].resize(current_size + 1, axis = 0)"
   ]
  },
  {
   "cell_type": "markdown",
   "metadata": {},
   "source": [
    "Finally, the data is normalized using the mean and standard deviation across the entire dataset. The normalized training data has a mean of $0$ and a standard deviation of $1$. This is to make it easier for the neural network to learn the mapping. The normalized data is then fed into a deep learning architecture for training, which we now describe."
   ]
  },
  {
   "cell_type": "markdown",
   "metadata": {},
   "source": [
    "## Network architecture\n",
    "\n",
    "We use a convolutional neural network for predicting triggered earthquake events. Deep neural networks usually require millions of examples for effective training and generalization. Because of the rarity of triggered earthquake events and the amount of effort and expertise required to find and label these events reliably, we have access to very little training data. \n",
    "\n",
    "To overcome this obstacle, we use a variant of neural networks called siamese networks. Rather than classify data directly into positive and negative classes, siamese networks instead take pairs of datapoints and predict whether they belong to the same class or to different classes. They do this by projecting the datapoint into an embedding. The embeddings of two datapoints will be close to each other in the space if they belong to the same class and far apart if they belong to different classes."
   ]
  },
  {
   "cell_type": "code",
   "execution_count": 16,
   "metadata": {},
   "outputs": [],
   "source": [
    "from torch import nn\n",
    "from torch.autograd import Variable\n",
    "import torch.nn.functional as F\n",
    "\n",
    "def show_model(model):\n",
    "    print model\n",
    "    num_parameters = 0\n",
    "    for p in model.parameters():\n",
    "        if p.requires_grad:\n",
    "            num_parameters += np.cumprod(p.size())[-1]\n",
    "    print 'Number of parameters: %d' % num_parameters\n",
    "    \n",
    "def convert_to_tensor(data):\n",
    "    tensor = torch.FloatTensor(data)\n",
    "    if torch.cuda.is_available():\n",
    "        tensor = tensor.cuda()\n",
    "    return tensor\n",
    "    \n",
    "class SiameseNetwork(nn.Module):\n",
    "    def __init__(self):\n",
    "        super(SiameseNetwork, self).__init__()\n",
    "        self.cnn1 = nn.Sequential(\n",
    "            nn.Conv2d(1, 32, kernel_size=(3, 3), stride=(2,2)),\n",
    "            nn.ReLU(inplace=True),\n",
    "            nn.Conv2d(32, 32, kernel_size=(3, 3), stride=(2,2)),\n",
    "            nn.ReLU(inplace=True),\n",
    "            nn.Conv2d(32, 32, kernel_size=(3, 3), stride=(2,2)),\n",
    "            nn.ReLU(inplace=True),\n",
    "            nn.Conv2d(32, 32, kernel_size=(3, 3), stride=(2,2)),\n",
    "            nn.ReLU(inplace=True),\n",
    "        )\n",
    "        self.fc1 = nn.Sequential(\n",
    "            nn.Linear(32, 10))       \n",
    "        \n",
    "    def forward_once(self, input_data):\n",
    "        num_batch = input_data.size(0)\n",
    "        input_data = input_data.unsqueeze(1)\n",
    "        output = self.cnn1(input_data)\n",
    "        output = F.adaptive_avg_pool2d(output, (1, 1)).squeeze(-1).squeeze(-1)\n",
    "        embedding = self.fc1(output)\n",
    "        #embedding = nn.functional.normalize(embedding, p=2, dim=-1)\n",
    "        return embedding\n",
    "    \n",
    "    def forward(self, input_one, input_two):\n",
    "        output_one = self.forward_once(input_one)\n",
    "        output_two = self.forward_once(input_two)\n",
    "        return output_one, output_two"
   ]
  },
  {
   "cell_type": "markdown",
   "metadata": {},
   "source": [
    "We then take pairs of training examples and run them through the network. The loss function is a contrastive loss, which drives embeddings apart if the classes of the two examples are different and brings them closer together if the classes are the same."
   ]
  },
  {
   "cell_type": "code",
   "execution_count": 17,
   "metadata": {},
   "outputs": [
    {
     "name": "stdout",
     "output_type": "stream",
     "text": [
      "SiameseNetwork(\n",
      "  (cnn1): Sequential(\n",
      "    (0): Conv2d(1, 32, kernel_size=(3, 3), stride=(2, 2))\n",
      "    (1): ReLU(inplace)\n",
      "    (2): Conv2d(32, 32, kernel_size=(3, 3), stride=(2, 2))\n",
      "    (3): ReLU(inplace)\n",
      "    (4): Conv2d(32, 32, kernel_size=(3, 3), stride=(2, 2))\n",
      "    (5): ReLU(inplace)\n",
      "    (6): Conv2d(32, 32, kernel_size=(3, 3), stride=(2, 2))\n",
      "    (7): ReLU(inplace)\n",
      "  )\n",
      "  (fc1): Sequential(\n",
      "    (0): Linear(in_features=32, out_features=10, bias=True)\n",
      "  )\n",
      ")\n",
      "Number of parameters: 28394\n"
     ]
    }
   ],
   "source": [
    "net = SiameseNetwork().cuda()\n",
    "net.train()\n",
    "show_model(net)"
   ]
  },
  {
   "cell_type": "markdown",
   "metadata": {},
   "source": [
    "The model consists of 4 convolutional layers and non-linear activation layers (rectified linear unit or ReLU). The last ReLU layer is fed into a global average pooling layer, which averages each feature map. This is then fed into a linear layer that produces an embedding of size $10$. The network has $28394$ trainable parameters."
   ]
  },
  {
   "cell_type": "code",
   "execution_count": 22,
   "metadata": {},
   "outputs": [],
   "source": [
    "class ContrastiveLoss(torch.nn.Module):\n",
    "    \"\"\"\n",
    "    Contrastive loss function.\n",
    "    Based on: http://yann.lecun.com/exdb/publis/pdf/hadsell-chopra-lecun-06.pdf\n",
    "    \"\"\"\n",
    "\n",
    "    def __init__(self, margin=2.0):\n",
    "        super(ContrastiveLoss, self).__init__()\n",
    "        self.margin = margin\n",
    "\n",
    "    def forward(self, output1, output2, label):\n",
    "        euclidean_distance = F.pairwise_distance(output1, output2)\n",
    "        loss_contrastive = torch.mean((1-label) * torch.pow(euclidean_distance, 2) +\n",
    "                                      (label) * torch.pow(torch.clamp(self.margin - euclidean_distance, min=0.0), 2))\n",
    "\n",
    "\n",
    "        return loss_contrastive"
   ]
  },
  {
   "cell_type": "markdown",
   "metadata": {},
   "source": [
    "To train, we take random pairs of examples from the training data with a batch size of 256. We use the Adam optimizer with a learning rate of $1^{-4}$ and L2 regularization of $.005$. We train for 2000 iterations, which means $2000*256 = 512000$ pairs are used for training. Each data point is whitened using the mean and standard deviation."
   ]
  },
  {
   "cell_type": "code",
   "execution_count": 25,
   "metadata": {},
   "outputs": [],
   "source": [
    "def whiten(data, mean, std):\n",
    "    data -= mean\n",
    "    data /= std + 1e-8\n",
    "    return data\n",
    "\n",
    "def collect_data(dataset, indices):\n",
    "    data = []\n",
    "    labels = []\n",
    "    for i in indices:\n",
    "        data += [dataset['data'][i]]\n",
    "        labels += [dataset['label'][i]]\n",
    "    return np.array(data), np.array(labels)"
   ]
  },
  {
   "cell_type": "markdown",
   "metadata": {},
   "source": [
    "The training loop for optimizing the model weights is below."
   ]
  },
  {
   "cell_type": "code",
   "execution_count": 26,
   "metadata": {},
   "outputs": [
    {
     "data": {
      "text/html": [
       "<p>Failed to display Jupyter Widget of type <code>HBox</code>.</p>\n",
       "<p>\n",
       "  If you're reading this message in the Jupyter Notebook or JupyterLab Notebook, it may mean\n",
       "  that the widgets JavaScript is still loading. If this message persists, it\n",
       "  likely means that the widgets JavaScript library is either not installed or\n",
       "  not enabled. See the <a href=\"https://ipywidgets.readthedocs.io/en/stable/user_install.html\">Jupyter\n",
       "  Widgets Documentation</a> for setup instructions.\n",
       "</p>\n",
       "<p>\n",
       "  If you're reading this message in another frontend (for example, a static\n",
       "  rendering on GitHub or <a href=\"https://nbviewer.jupyter.org/\">NBViewer</a>),\n",
       "  it may mean that your frontend doesn't currently support widgets.\n",
       "</p>\n"
      ],
      "text/plain": [
       "HBox(children=(IntProgress(value=0, max=2000), HTML(value=u'')))"
      ]
     },
     "metadata": {},
     "output_type": "execute_result"
    }
   ],
   "source": [
    "progress_bar = tnrange(2000)\n",
    "loss_function = ContrastiveLoss()\n",
    "optimizer = torch.optim.Adam(net.parameters(), lr=1e-4, weight_decay=0.005)\n",
    "mean = np.mean(dataset['training']['data'])\n",
    "std = np.std(dataset['training']['data'])\n",
    "batch_size = 256\n",
    "\n",
    "for i in progress_bar:\n",
    "    a = np.random.choice(range(dataset['training']['data'].shape[0]), (batch_size,))\n",
    "    b = np.random.choice(range(dataset['training']['data'].shape[0]), (batch_size,))\n",
    "    \n",
    "    data_one, label_one = collect_data(dataset['training'], a)\n",
    "    data_two, label_two = collect_data(dataset['training'], b)\n",
    "    \n",
    "    data_one = whiten(data_one, mean, std)\n",
    "    data_two = whiten(data_two, mean, std)\n",
    "    \n",
    "    data_one = Variable(convert_to_tensor(data_one))\n",
    "    data_two = Variable(convert_to_tensor(data_two))\n",
    "    \n",
    "    same_or_different = np.array(label_one != label_two).astype(np.float)\n",
    "    \n",
    "    output_one, output_two = net(data_one, data_two)\n",
    "    optimizer.zero_grad()\n",
    "    loss = loss_function(output_one, output_two, Variable(convert_to_tensor(same_or_different)))\n",
    "    loss.backward()\n",
    "    optimizer.step()\n",
    "    \n",
    "    progress_bar.set_description(str(loss.data[0]))"
   ]
  },
  {
   "cell_type": "markdown",
   "metadata": {},
   "source": [
    "The end loss is around $.4$.\n",
    "\n",
    "## Classifying using the embeddings\n",
    "\n",
    "The network is used as a feature extraction step from the data representation. The features output by the network (the embeddings) are fed to a support vector machine for training a separating hyper plane. First, we can visualize the embeddings on the training data. We run each training example through the network, producing 10 dimensional embeddings for each seismogram. We then project the 10 dimensional embeddings onto a 2 dimensional space using PCA (Principal Component Analysis)."
   ]
  },
  {
   "cell_type": "code",
   "execution_count": 48,
   "metadata": {},
   "outputs": [
    {
     "data": {
      "image/png": "[encoded data removed]",
      "text/plain": [
       "<matplotlib.figure.Figure at 0x7fafbdb444d0>"
      ]
     },
     "metadata": {},
     "output_type": "display_data"
    }
   ],
   "source": [
    "outputs = []\n",
    "labels = []\n",
    "split = 'training'\n",
    "net.eval()\n",
    "for i in range(dataset[split]['data'].shape[0]):\n",
    "    data = whiten(dataset[split]['data'][i], mean, std)\n",
    "    data = Variable(convert_to_tensor(data)).unsqueeze(0)\n",
    "    label = dataset[split]['label'][i]\n",
    "    labels.append(label)\n",
    "    output = net.forward_once(data)\n",
    "    output = output.squeeze(0).data.cpu().numpy()\n",
    "    outputs.append(output)\n",
    "\n",
    "output = np.array(outputs)\n",
    "\n",
    "from sklearn.decomposition import PCA\n",
    "transform = PCA(n_components=2)\n",
    "\n",
    "output_transform = transform.fit_transform(output)\n",
    "c = ['red', 'blue']\n",
    "colors = [c[int(l[0])] for l in labels]\n",
    "\n",
    "plt.figure(figsize=(10,6))\n",
    "plt.scatter(output_transform[:, 0], output_transform[:, 1], color=colors)\n",
    "plt.xlabel('PCA Dimension 1')\n",
    "plt.ylabel('PCA Dimension 2')\n",
    "plt.show()"
   ]
  },
  {
   "cell_type": "markdown",
   "metadata": {},
   "source": [
    "The training data is linearly separable. The dimensions of the plot are the two dimensions along which the embeddings have maximal variance. They are just for visualization. Blue indicates positive events and red indicates negative events. We can then use a Support Vector Machine with a linear kernel to find a separating hyperplane as follows. The SVM is trained on the original 10 dimensional embedding space."
   ]
  },
  {
   "cell_type": "code",
   "execution_count": 40,
   "metadata": {},
   "outputs": [
    {
     "data": {
      "text/plain": [
       "SVC(C=1.0, cache_size=200, class_weight=None, coef0=0.0,\n",
       "  decision_function_shape=None, degree=3, gamma='auto', kernel='linear',\n",
       "  max_iter=-1, probability=False, random_state=None, shrinking=True,\n",
       "  tol=0.001, verbose=False)"
      ]
     },
     "execution_count": 40,
     "metadata": {},
     "output_type": "execute_result"
    }
   ],
   "source": [
    "from sklearn import svm\n",
    "from sklearn.neighbors import KNeighborsClassifier\n",
    "from sklearn.cluster import KMeans\n",
    "clf = svm.SVC(kernel='linear')\n",
    "clf.fit(output, np.array(labels).flatten())"
   ]
  },
  {
   "cell_type": "code",
   "execution_count": 41,
   "metadata": {},
   "outputs": [
    {
     "data": {
      "image/png": "[encoded data removed]",
      "text/plain": [
       "<matplotlib.figure.Figure at 0x7fb044257ad0>"
      ]
     },
     "metadata": {},
     "output_type": "display_data"
    }
   ],
   "source": [
    "from sklearn.metrics import confusion_matrix\n",
    "import itertools\n",
    "cm = confusion_matrix(np.array(labels).flatten(), clf.predict(output))\n",
    "\n",
    "def plot_confusion_matrix(cm, classes,\n",
    "                          normalize=False,\n",
    "                          title='Confusion matrix',\n",
    "                          cmap=plt.cm.Blues):\n",
    "    \"\"\"\n",
    "    This function prints and plots the confusion matrix.\n",
    "    Normalization can be applied by setting `normalize=True`.\n",
    "    \"\"\"\n",
    "    plt.imshow(cm, interpolation='nearest', cmap=cmap)\n",
    "    plt.title(title)\n",
    "    plt.colorbar()\n",
    "    tick_marks = np.arange(len(classes))\n",
    "    plt.xticks(tick_marks, classes, rotation=45)\n",
    "    plt.yticks(tick_marks, classes)\n",
    "\n",
    "    fmt = '.2f' if normalize else 'd'\n",
    "    thresh = cm.max() / 2.\n",
    "    for i, j in itertools.product(range(cm.shape[0]), range(cm.shape[1])):\n",
    "        plt.text(j, i, format(cm[i, j], fmt),\n",
    "                 horizontalalignment=\"center\",\n",
    "                 color=\"white\" if cm[i, j] > thresh else \"black\")\n",
    "\n",
    "    plt.tight_layout()\n",
    "    plt.ylabel('True label')\n",
    "    plt.xlabel('Predicted label')\n",
    "    \n",
    "plot_confusion_matrix(cm, ['Negative', 'Positive'])"
   ]
  },
  {
   "cell_type": "markdown",
   "metadata": {},
   "source": [
    "Since the embeddings are easily linearly separable, a support vector machine with a linear kernel produces good results on the training data.\n",
    "\n",
    "## Results\n",
    "\n",
    "Using the trained convolutional neural network and the trained support vector machine, we are now able to classify the remaining earthquake seismogram data into containing triggered events or not."
   ]
  },
  {
   "cell_type": "code",
   "execution_count": 47,
   "metadata": {},
   "outputs": [
    {
     "data": {
      "image/png": "[encoded data removed]",
      "text/plain": [
       "<matplotlib.figure.Figure at 0x7fafbda4c3d0>"
      ]
     },
     "metadata": {},
     "output_type": "display_data"
    }
   ],
   "source": [
    "outputs = []\n",
    "labels = []\n",
    "split = 'testing'\n",
    "net.eval()\n",
    "for i in range(dataset[split]['data'].shape[0]):\n",
    "    data = whiten(dataset[split]['data'][i], mean, std)\n",
    "    data = Variable(convert_to_tensor(data)).unsqueeze(0)\n",
    "    label = dataset[split]['label'][i]\n",
    "    labels.append(label)\n",
    "    output = net.forward_once(data)\n",
    "    output = output.squeeze(0).data.cpu().numpy()\n",
    "    outputs.append(output)\n",
    "\n",
    "output = np.array(outputs)\n",
    "\n",
    "from sklearn.decomposition import PCA\n",
    "transform = PCA(n_components=2)\n",
    "\n",
    "output_transform = transform.fit_transform(output)\n",
    "c = ['red', 'blue']\n",
    "colors = [c[int(l[0])] for l in labels]\n",
    "\n",
    "plt.figure(figsize=(10,6))\n",
    "plt.scatter(output_transform[:, 0], output_transform[:, 1], color=colors)\n",
    "plt.show()"
   ]
  },
  {
   "cell_type": "code",
   "execution_count": 46,
   "metadata": {},
   "outputs": [
    {
     "name": "stdout",
     "output_type": "stream",
     "text": [
      "Accuracy: 0.851612903226\n"
     ]
    },
    {
     "data": {
      "image/png": "[encoded data removed]",
      "text/plain": [
       "<matplotlib.figure.Figure at 0x7fb044217950>"
      ]
     },
     "metadata": {},
     "output_type": "display_data"
    }
   ],
   "source": [
    "from sklearn.metrics import confusion_matrix\n",
    "import itertools\n",
    "cm = confusion_matrix(np.array(labels).flatten(), clf.predict(output))    \n",
    "plot_confusion_matrix(cm, ['Negative', 'Positive'])\n",
    "\n",
    "print 'Accuracy: ' +  str(np.sum(np.array(labels).flatten() == clf.predict(output)) / float(len(labels)))"
   ]
  },
  {
   "cell_type": "markdown",
   "metadata": {},
   "source": [
    "We obtain an accuracy on the testing set of $85.1$ percent. We rarely classify a positive example as a negative one, but sometimes confuse negative examples for positive examples. There are 95 positive examples and 60 negative examples. So if we always guess the more common class (positive), we'd only have an accuracy of $61.2$ percent."
   ]
  }
 ],
 "metadata": {
  "kernelspec": {
   "display_name": "nussl",
   "language": "python",
   "name": "nussl"
  },
  "language_info": {
   "codemirror_mode": {
    "name": "ipython",
    "version": 2
   },
   "file_extension": ".py",
   "mimetype": "text/x-python",
   "name": "python",
   "nbconvert_exporter": "python",
   "pygments_lexer": "ipython2",
   "version": "2.7.6"
  }
 },
 "nbformat": 4,
 "nbformat_minor": 2
}
