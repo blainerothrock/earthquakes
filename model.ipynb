{
 "cells": [
  {
   "cell_type": "code",
   "execution_count": 31,
   "metadata": {},
   "outputs": [],
   "source": [
    "from torch import nn\n",
    "import torch.nn.functional as F\n",
    "import torch\n",
    "\n",
    "class DilatedConvolutional(nn.Module):\n",
    "    def __init__(self):\n",
    "        super(DilatedConvolutional, self).__init__()\n",
    "        dilations = [1, 2, 4, 8, 16, 32, 64, 128, 256, 512]\n",
    "        channels = [1, 16, 16, 16, 16, 16, 16, 16, 16, 16, 16]\n",
    "        self.main = nn.Sequential()\n",
    "        for i,d in enumerate(dilations):\n",
    "            self.main.add_module(str(i), nn.Conv1d(in_channels=channels[i],\n",
    "                                                   out_channels=channels[i+1], \n",
    "                                                   kernel_size=2,\n",
    "                                                   dilation=d))\n",
    "            self.main.add_module(str(i)+'_relu', nn.ReLU())\n",
    "        self.main.add_module('pool', nn.AdaptiveAvgPool1d(1))\n",
    "        self.fc = nn.Linear(channels[-1], channels[-1])\n",
    "        \n",
    "    def forward(self, input):\n",
    "        output = self.main(input).squeeze(-1)\n",
    "        print(output.shape)\n",
    "        output = torch.sigmoid(self.fc(output))\n",
    "        return output"
   ]
  },
  {
   "cell_type": "code",
   "execution_count": 56,
   "metadata": {},
   "outputs": [],
   "source": [
    "import dataset\n",
    "import numpy as np\n",
    "from importlib import reload\n",
    "reload(dataset)\n",
    "dset = dataset.EarthquakeDataset(folder='../data/prepared', \n",
    "                                 length=100000, \n",
    "                                 transforms='demean:raw', \n",
    "                                 split='SAC_20100227_Chile_prem')"
   ]
  },
  {
   "cell_type": "code",
   "execution_count": 67,
   "metadata": {},
   "outputs": [
    {
     "name": "stdout",
     "output_type": "stream",
     "text": [
      "(1, 106596) 100000\n",
      "[(0, 0), (0, 0)]\n",
      "(1, 100000)\n",
      "(1, 52560) 100000\n",
      "[(0, 0), (0, 47440)]\n",
      "(1, 100000)\n"
     ]
    },
    {
     "data": {
      "text/plain": [
       "(2, 100000)"
      ]
     },
     "execution_count": 67,
     "metadata": {},
     "output_type": "execute_result"
    }
   ],
   "source": [
    "siamese = dataset.SiameseDataset(dset)\n",
    "siamese[0]['data'].shape"
   ]
  },
  {
   "cell_type": "code",
   "execution_count": null,
   "metadata": {},
   "outputs": [],
   "source": [
    "data_tensor = torch.from_numpy(dset[10]['data']).unsqueeze(0)\n",
    "print(data_tensor.shape)\n",
    "net = Net()\n",
    "output = net(data_tensor)"
   ]
  },
  {
   "cell_type": "code",
   "execution_count": 11,
   "metadata": {},
   "outputs": [],
   "source": [
    "from torch.utils.data import DataLoader\n",
    "dataloader = DataLoader(siamese,\n",
    "                        batch_size=40,\n",
    "                        num_workers=0,\n",
    "                        drop_last=True)"
   ]
  },
  {
   "cell_type": "code",
   "execution_count": 33,
   "metadata": {},
   "outputs": [
    {
     "data": {
      "text/plain": [
       "torch.Size([40, 2, 10000])"
      ]
     },
     "execution_count": 33,
     "metadata": {},
     "output_type": "execute_result"
    }
   ],
   "source": [
    "x = next(iter(dataloader))\n",
    "x['data'].shape"
   ]
  },
  {
   "cell_type": "code",
   "execution_count": 100,
   "metadata": {},
   "outputs": [
    {
     "name": "stdout",
     "output_type": "stream",
     "text": [
      "Net(\n",
      "  (main): Sequential(\n",
      "    (0): Conv1d(1, 16, kernel_size=(2,), stride=(1,), padding=(1,))\n",
      "    (0_relu): ReLU()\n",
      "    (1): Conv1d(16, 16, kernel_size=(2,), stride=(1,), padding=(2,), dilation=(2,))\n",
      "    (1_relu): ReLU()\n",
      "    (2): Conv1d(16, 16, kernel_size=(2,), stride=(1,), padding=(4,), dilation=(4,))\n",
      "    (2_relu): ReLU()\n",
      "    (3): Conv1d(16, 16, kernel_size=(2,), stride=(1,), padding=(8,), dilation=(8,))\n",
      "    (3_relu): ReLU()\n",
      "    (4): Conv1d(16, 16, kernel_size=(2,), stride=(1,), padding=(16,), dilation=(16,))\n",
      "    (4_relu): ReLU()\n",
      "    (5): Conv1d(16, 16, kernel_size=(2,), stride=(1,), padding=(32,), dilation=(32,))\n",
      "    (5_relu): ReLU()\n",
      "    (6): Conv1d(16, 16, kernel_size=(2,), stride=(1,), padding=(64,), dilation=(64,))\n",
      "    (6_relu): ReLU()\n",
      "    (7): Conv1d(16, 16, kernel_size=(2,), stride=(1,), padding=(128,), dilation=(128,))\n",
      "    (7_relu): ReLU()\n",
      "    (8): Conv1d(16, 16, kernel_size=(2,), stride=(1,), padding=(256,), dilation=(256,))\n",
      "    (8_relu): ReLU()\n",
      "    (9): Conv1d(16, 16, kernel_size=(2,), stride=(1,), padding=(512,), dilation=(512,))\n",
      "    (9_relu): ReLU()\n",
      "    (pool): AdaptiveAvgPool1d(output_size=1)\n",
      "  )\n",
      "  (fc): Linear(in_features=16, out_features=16, bias=True)\n",
      ")\n",
      "Number of parameters: 5072\n"
     ]
    }
   ],
   "source": [
    "from networks import utils\n",
    "utils.show_model(net)"
   ]
  },
  {
   "cell_type": "code",
   "execution_count": 27,
   "metadata": {},
   "outputs": [
    {
     "data": {
      "text/plain": [
       "tensor([1.], device='cuda:0')"
      ]
     },
     "execution_count": 27,
     "metadata": {},
     "output_type": "execute_result"
    }
   ],
   "source": [
    "import torch\n",
    "x = torch.zeros(1).to('cuda')\n",
    "x.new(x.shape).fill_(1)"
   ]
  },
  {
   "cell_type": "code",
   "execution_count": null,
   "metadata": {},
   "outputs": [],
   "source": []
  }
 ],
 "metadata": {
  "kernelspec": {
   "display_name": "Python 3",
   "language": "python",
   "name": "python3"
  },
  "language_info": {
   "codemirror_mode": {
    "name": "ipython",
    "version": 3
   },
   "file_extension": ".py",
   "mimetype": "text/x-python",
   "name": "python",
   "nbconvert_exporter": "python",
   "pygments_lexer": "ipython3",
   "version": "3.6.5"
  }
 },
 "nbformat": 4,
 "nbformat_minor": 2
}
